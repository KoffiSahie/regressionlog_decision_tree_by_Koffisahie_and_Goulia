{
 "cells": [
  {
   "cell_type": "code",
   "execution_count": 30,
   "id": "6ff17807",
   "metadata": {},
   "outputs": [],
   "source": [
    "import pandas as pd\n",
    "import numpy as np\n",
    "import os \n",
    "from sklearn.model_selection import train_test_split\n",
    "from sklearn.linear_model import LogisticRegression\n",
    "from sklearn.metrics import confusion_matrix, recall_score, accuracy_score, classification_report, precision_score\n",
    "from sklearn.preprocessing import LabelEncoder\n",
    "from sklearn.tree import DecisionTreeClassifier\n",
    "import pickle"
   ]
  },
  {
   "cell_type": "code",
   "execution_count": 3,
   "id": "d9c572ed",
   "metadata": {},
   "outputs": [],
   "source": [
    "#afficher le répertoire courant\n",
    "os.getcwd()\n",
    "#Changer de répertoire de travail\n",
    "os.chdir(r'C:\\Users\\CAPITAINE PIRLO\\Downloads')"
   ]
  },
  {
   "cell_type": "code",
   "execution_count": 5,
   "id": "a2dd9dd6",
   "metadata": {},
   "outputs": [
    {
     "data": {
      "text/html": [
       "<div>\n",
       "<style scoped>\n",
       "    .dataframe tbody tr th:only-of-type {\n",
       "        vertical-align: middle;\n",
       "    }\n",
       "\n",
       "    .dataframe tbody tr th {\n",
       "        vertical-align: top;\n",
       "    }\n",
       "\n",
       "    .dataframe thead th {\n",
       "        text-align: right;\n",
       "    }\n",
       "</style>\n",
       "<table border=\"1\" class=\"dataframe\">\n",
       "  <thead>\n",
       "    <tr style=\"text-align: right;\">\n",
       "      <th></th>\n",
       "      <th>AGE</th>\n",
       "      <th>SEXE</th>\n",
       "      <th>TDT</th>\n",
       "      <th>PAR</th>\n",
       "      <th>CHOLESTEROL</th>\n",
       "      <th>GAJ</th>\n",
       "      <th>ECG</th>\n",
       "      <th>FCMAX</th>\n",
       "      <th>ANGINE</th>\n",
       "      <th>DEPRESSION</th>\n",
       "      <th>PENTE</th>\n",
       "      <th>CŒUR</th>\n",
       "    </tr>\n",
       "  </thead>\n",
       "  <tbody>\n",
       "    <tr>\n",
       "      <th>0</th>\n",
       "      <td>40</td>\n",
       "      <td>homme</td>\n",
       "      <td>AA</td>\n",
       "      <td>140</td>\n",
       "      <td>289</td>\n",
       "      <td>0</td>\n",
       "      <td>Normal</td>\n",
       "      <td>172</td>\n",
       "      <td>Non</td>\n",
       "      <td>0.0</td>\n",
       "      <td>Ascendant</td>\n",
       "      <td>0</td>\n",
       "    </tr>\n",
       "    <tr>\n",
       "      <th>1</th>\n",
       "      <td>49</td>\n",
       "      <td>femme</td>\n",
       "      <td>DNA</td>\n",
       "      <td>160</td>\n",
       "      <td>180</td>\n",
       "      <td>0</td>\n",
       "      <td>Normal</td>\n",
       "      <td>156</td>\n",
       "      <td>Non</td>\n",
       "      <td>1.0</td>\n",
       "      <td>Plat</td>\n",
       "      <td>1</td>\n",
       "    </tr>\n",
       "    <tr>\n",
       "      <th>2</th>\n",
       "      <td>37</td>\n",
       "      <td>homme</td>\n",
       "      <td>AA</td>\n",
       "      <td>130</td>\n",
       "      <td>283</td>\n",
       "      <td>0</td>\n",
       "      <td>ST</td>\n",
       "      <td>98</td>\n",
       "      <td>Non</td>\n",
       "      <td>0.0</td>\n",
       "      <td>Ascendant</td>\n",
       "      <td>0</td>\n",
       "    </tr>\n",
       "    <tr>\n",
       "      <th>3</th>\n",
       "      <td>48</td>\n",
       "      <td>femme</td>\n",
       "      <td>ASY</td>\n",
       "      <td>138</td>\n",
       "      <td>214</td>\n",
       "      <td>0</td>\n",
       "      <td>Normal</td>\n",
       "      <td>108</td>\n",
       "      <td>Oui</td>\n",
       "      <td>1.5</td>\n",
       "      <td>Plat</td>\n",
       "      <td>1</td>\n",
       "    </tr>\n",
       "    <tr>\n",
       "      <th>4</th>\n",
       "      <td>54</td>\n",
       "      <td>homme</td>\n",
       "      <td>DNA</td>\n",
       "      <td>150</td>\n",
       "      <td>195</td>\n",
       "      <td>0</td>\n",
       "      <td>Normal</td>\n",
       "      <td>122</td>\n",
       "      <td>Non</td>\n",
       "      <td>0.0</td>\n",
       "      <td>Ascendant</td>\n",
       "      <td>0</td>\n",
       "    </tr>\n",
       "  </tbody>\n",
       "</table>\n",
       "</div>"
      ],
      "text/plain": [
       "   AGE   SEXE  TDT  PAR  CHOLESTEROL  GAJ     ECG  FCMAX ANGINE  DEPRESSION   \\\n",
       "0   40  homme   AA  140          289    0  Normal    172    Non          0.0   \n",
       "1   49  femme  DNA  160          180    0  Normal    156    Non          1.0   \n",
       "2   37  homme   AA  130          283    0      ST     98    Non          0.0   \n",
       "3   48  femme  ASY  138          214    0  Normal    108    Oui          1.5   \n",
       "4   54  homme  DNA  150          195    0  Normal    122    Non          0.0   \n",
       "\n",
       "       PENTE  CŒUR  \n",
       "0  Ascendant     0  \n",
       "1       Plat     1  \n",
       "2  Ascendant     0  \n",
       "3       Plat     1  \n",
       "4  Ascendant     0  "
      ]
     },
     "execution_count": 5,
     "metadata": {},
     "output_type": "execute_result"
    }
   ],
   "source": [
    "#Chargement du DF\n",
    "data = pd.read_excel('Coeur.xlsx')\n",
    "data.head()"
   ]
  },
  {
   "cell_type": "code",
   "execution_count": 6,
   "id": "e4d4f3a3",
   "metadata": {},
   "outputs": [],
   "source": [
    "#Travailler avec une copie du data Frame pour éviter de le rechager en cas d'êrreur\n",
    "df = data.copy()"
   ]
  },
  {
   "cell_type": "code",
   "execution_count": 7,
   "id": "207cd3b3",
   "metadata": {},
   "outputs": [
    {
     "name": "stdout",
     "output_type": "stream",
     "text": [
      "<class 'pandas.core.frame.DataFrame'>\n",
      "RangeIndex: 918 entries, 0 to 917\n",
      "Data columns (total 12 columns):\n",
      " #   Column       Non-Null Count  Dtype  \n",
      "---  ------       --------------  -----  \n",
      " 0   AGE          918 non-null    int64  \n",
      " 1   SEXE         918 non-null    object \n",
      " 2   TDT          918 non-null    object \n",
      " 3   PAR          918 non-null    int64  \n",
      " 4   CHOLESTEROL  918 non-null    int64  \n",
      " 5   GAJ          918 non-null    int64  \n",
      " 6   ECG          918 non-null    object \n",
      " 7   FCMAX        918 non-null    int64  \n",
      " 8   ANGINE       918 non-null    object \n",
      " 9   DEPRESSION   918 non-null    float64\n",
      " 10  PENTE        918 non-null    object \n",
      " 11  CŒUR         918 non-null    int64  \n",
      "dtypes: float64(1), int64(6), object(5)\n",
      "memory usage: 86.2+ KB\n"
     ]
    }
   ],
   "source": [
    "#Afficher les informations relatives au DF\n",
    "df.info()"
   ]
  },
  {
   "cell_type": "code",
   "execution_count": 8,
   "id": "4976a4cf",
   "metadata": {},
   "outputs": [],
   "source": [
    "#Normalisation des variables quantitatives\n",
    "for col in df.drop('CŒUR', axis =1).select_dtypes(np.number).columns:\n",
    "    df[col] = df[col]/df[col].max()\n"
   ]
  },
  {
   "cell_type": "code",
   "execution_count": 9,
   "id": "f97ed680",
   "metadata": {},
   "outputs": [
    {
     "data": {
      "text/html": [
       "<div>\n",
       "<style scoped>\n",
       "    .dataframe tbody tr th:only-of-type {\n",
       "        vertical-align: middle;\n",
       "    }\n",
       "\n",
       "    .dataframe tbody tr th {\n",
       "        vertical-align: top;\n",
       "    }\n",
       "\n",
       "    .dataframe thead th {\n",
       "        text-align: right;\n",
       "    }\n",
       "</style>\n",
       "<table border=\"1\" class=\"dataframe\">\n",
       "  <thead>\n",
       "    <tr style=\"text-align: right;\">\n",
       "      <th></th>\n",
       "      <th>AGE</th>\n",
       "      <th>SEXE</th>\n",
       "      <th>TDT</th>\n",
       "      <th>PAR</th>\n",
       "      <th>CHOLESTEROL</th>\n",
       "      <th>GAJ</th>\n",
       "      <th>ECG</th>\n",
       "      <th>FCMAX</th>\n",
       "      <th>ANGINE</th>\n",
       "      <th>DEPRESSION</th>\n",
       "      <th>PENTE</th>\n",
       "      <th>CŒUR</th>\n",
       "    </tr>\n",
       "  </thead>\n",
       "  <tbody>\n",
       "    <tr>\n",
       "      <th>0</th>\n",
       "      <td>0.519481</td>\n",
       "      <td>homme</td>\n",
       "      <td>AA</td>\n",
       "      <td>0.70</td>\n",
       "      <td>0.479270</td>\n",
       "      <td>0.0</td>\n",
       "      <td>Normal</td>\n",
       "      <td>0.851485</td>\n",
       "      <td>Non</td>\n",
       "      <td>0.000000</td>\n",
       "      <td>Ascendant</td>\n",
       "      <td>0</td>\n",
       "    </tr>\n",
       "    <tr>\n",
       "      <th>1</th>\n",
       "      <td>0.636364</td>\n",
       "      <td>femme</td>\n",
       "      <td>DNA</td>\n",
       "      <td>0.80</td>\n",
       "      <td>0.298507</td>\n",
       "      <td>0.0</td>\n",
       "      <td>Normal</td>\n",
       "      <td>0.772277</td>\n",
       "      <td>Non</td>\n",
       "      <td>0.161290</td>\n",
       "      <td>Plat</td>\n",
       "      <td>1</td>\n",
       "    </tr>\n",
       "    <tr>\n",
       "      <th>2</th>\n",
       "      <td>0.480519</td>\n",
       "      <td>homme</td>\n",
       "      <td>AA</td>\n",
       "      <td>0.65</td>\n",
       "      <td>0.469320</td>\n",
       "      <td>0.0</td>\n",
       "      <td>ST</td>\n",
       "      <td>0.485149</td>\n",
       "      <td>Non</td>\n",
       "      <td>0.000000</td>\n",
       "      <td>Ascendant</td>\n",
       "      <td>0</td>\n",
       "    </tr>\n",
       "    <tr>\n",
       "      <th>3</th>\n",
       "      <td>0.623377</td>\n",
       "      <td>femme</td>\n",
       "      <td>ASY</td>\n",
       "      <td>0.69</td>\n",
       "      <td>0.354892</td>\n",
       "      <td>0.0</td>\n",
       "      <td>Normal</td>\n",
       "      <td>0.534653</td>\n",
       "      <td>Oui</td>\n",
       "      <td>0.241935</td>\n",
       "      <td>Plat</td>\n",
       "      <td>1</td>\n",
       "    </tr>\n",
       "    <tr>\n",
       "      <th>4</th>\n",
       "      <td>0.701299</td>\n",
       "      <td>homme</td>\n",
       "      <td>DNA</td>\n",
       "      <td>0.75</td>\n",
       "      <td>0.323383</td>\n",
       "      <td>0.0</td>\n",
       "      <td>Normal</td>\n",
       "      <td>0.603960</td>\n",
       "      <td>Non</td>\n",
       "      <td>0.000000</td>\n",
       "      <td>Ascendant</td>\n",
       "      <td>0</td>\n",
       "    </tr>\n",
       "  </tbody>\n",
       "</table>\n",
       "</div>"
      ],
      "text/plain": [
       "        AGE   SEXE  TDT   PAR  CHOLESTEROL  GAJ     ECG     FCMAX ANGINE  \\\n",
       "0  0.519481  homme   AA  0.70     0.479270  0.0  Normal  0.851485    Non   \n",
       "1  0.636364  femme  DNA  0.80     0.298507  0.0  Normal  0.772277    Non   \n",
       "2  0.480519  homme   AA  0.65     0.469320  0.0      ST  0.485149    Non   \n",
       "3  0.623377  femme  ASY  0.69     0.354892  0.0  Normal  0.534653    Oui   \n",
       "4  0.701299  homme  DNA  0.75     0.323383  0.0  Normal  0.603960    Non   \n",
       "\n",
       "   DEPRESSION       PENTE  CŒUR  \n",
       "0     0.000000  Ascendant     0  \n",
       "1     0.161290       Plat     1  \n",
       "2     0.000000  Ascendant     0  \n",
       "3     0.241935       Plat     1  \n",
       "4     0.000000  Ascendant     0  "
      ]
     },
     "execution_count": 9,
     "metadata": {},
     "output_type": "execute_result"
    }
   ],
   "source": [
    "#Vérification des résultats\n",
    "df.head()"
   ]
  },
  {
   "cell_type": "code",
   "execution_count": 10,
   "id": "e4e42ce5",
   "metadata": {},
   "outputs": [],
   "source": [
    "#Encodage des variables qualitatives\n",
    "for col in df.select_dtypes('object').columns:\n",
    "    df[col] = df[col].astype('category').cat.codes"
   ]
  },
  {
   "cell_type": "code",
   "execution_count": 11,
   "id": "85a85a02",
   "metadata": {},
   "outputs": [
    {
     "data": {
      "text/html": [
       "<div>\n",
       "<style scoped>\n",
       "    .dataframe tbody tr th:only-of-type {\n",
       "        vertical-align: middle;\n",
       "    }\n",
       "\n",
       "    .dataframe tbody tr th {\n",
       "        vertical-align: top;\n",
       "    }\n",
       "\n",
       "    .dataframe thead th {\n",
       "        text-align: right;\n",
       "    }\n",
       "</style>\n",
       "<table border=\"1\" class=\"dataframe\">\n",
       "  <thead>\n",
       "    <tr style=\"text-align: right;\">\n",
       "      <th></th>\n",
       "      <th>AGE</th>\n",
       "      <th>SEXE</th>\n",
       "      <th>TDT</th>\n",
       "      <th>PAR</th>\n",
       "      <th>CHOLESTEROL</th>\n",
       "      <th>GAJ</th>\n",
       "      <th>ECG</th>\n",
       "      <th>FCMAX</th>\n",
       "      <th>ANGINE</th>\n",
       "      <th>DEPRESSION</th>\n",
       "      <th>PENTE</th>\n",
       "      <th>CŒUR</th>\n",
       "    </tr>\n",
       "  </thead>\n",
       "  <tbody>\n",
       "    <tr>\n",
       "      <th>0</th>\n",
       "      <td>0.519481</td>\n",
       "      <td>1</td>\n",
       "      <td>0</td>\n",
       "      <td>0.70</td>\n",
       "      <td>0.479270</td>\n",
       "      <td>0.0</td>\n",
       "      <td>1</td>\n",
       "      <td>0.851485</td>\n",
       "      <td>0</td>\n",
       "      <td>0.000000</td>\n",
       "      <td>0</td>\n",
       "      <td>0</td>\n",
       "    </tr>\n",
       "    <tr>\n",
       "      <th>1</th>\n",
       "      <td>0.636364</td>\n",
       "      <td>0</td>\n",
       "      <td>3</td>\n",
       "      <td>0.80</td>\n",
       "      <td>0.298507</td>\n",
       "      <td>0.0</td>\n",
       "      <td>1</td>\n",
       "      <td>0.772277</td>\n",
       "      <td>0</td>\n",
       "      <td>0.161290</td>\n",
       "      <td>2</td>\n",
       "      <td>1</td>\n",
       "    </tr>\n",
       "    <tr>\n",
       "      <th>2</th>\n",
       "      <td>0.480519</td>\n",
       "      <td>1</td>\n",
       "      <td>0</td>\n",
       "      <td>0.65</td>\n",
       "      <td>0.469320</td>\n",
       "      <td>0.0</td>\n",
       "      <td>2</td>\n",
       "      <td>0.485149</td>\n",
       "      <td>0</td>\n",
       "      <td>0.000000</td>\n",
       "      <td>0</td>\n",
       "      <td>0</td>\n",
       "    </tr>\n",
       "    <tr>\n",
       "      <th>3</th>\n",
       "      <td>0.623377</td>\n",
       "      <td>0</td>\n",
       "      <td>1</td>\n",
       "      <td>0.69</td>\n",
       "      <td>0.354892</td>\n",
       "      <td>0.0</td>\n",
       "      <td>1</td>\n",
       "      <td>0.534653</td>\n",
       "      <td>1</td>\n",
       "      <td>0.241935</td>\n",
       "      <td>2</td>\n",
       "      <td>1</td>\n",
       "    </tr>\n",
       "    <tr>\n",
       "      <th>4</th>\n",
       "      <td>0.701299</td>\n",
       "      <td>1</td>\n",
       "      <td>3</td>\n",
       "      <td>0.75</td>\n",
       "      <td>0.323383</td>\n",
       "      <td>0.0</td>\n",
       "      <td>1</td>\n",
       "      <td>0.603960</td>\n",
       "      <td>0</td>\n",
       "      <td>0.000000</td>\n",
       "      <td>0</td>\n",
       "      <td>0</td>\n",
       "    </tr>\n",
       "  </tbody>\n",
       "</table>\n",
       "</div>"
      ],
      "text/plain": [
       "        AGE  SEXE  TDT   PAR  CHOLESTEROL  GAJ  ECG     FCMAX  ANGINE  \\\n",
       "0  0.519481     1    0  0.70     0.479270  0.0    1  0.851485       0   \n",
       "1  0.636364     0    3  0.80     0.298507  0.0    1  0.772277       0   \n",
       "2  0.480519     1    0  0.65     0.469320  0.0    2  0.485149       0   \n",
       "3  0.623377     0    1  0.69     0.354892  0.0    1  0.534653       1   \n",
       "4  0.701299     1    3  0.75     0.323383  0.0    1  0.603960       0   \n",
       "\n",
       "   DEPRESSION   PENTE  CŒUR  \n",
       "0     0.000000      0     0  \n",
       "1     0.161290      2     1  \n",
       "2     0.000000      0     0  \n",
       "3     0.241935      2     1  \n",
       "4     0.000000      0     0  "
      ]
     },
     "execution_count": 11,
     "metadata": {},
     "output_type": "execute_result"
    }
   ],
   "source": [
    "#Vérification des résultats\n",
    "df.head()"
   ]
  },
  {
   "cell_type": "code",
   "execution_count": 12,
   "id": "acd4ee77",
   "metadata": {},
   "outputs": [],
   "source": [
    "#Séparer la variable cible (coeur) et les variables explicatives\n",
    "y = df['CŒUR']\n",
    "x = df.drop('CŒUR', axis = 1)"
   ]
  },
  {
   "cell_type": "code",
   "execution_count": 13,
   "id": "d38c03fb",
   "metadata": {},
   "outputs": [],
   "source": [
    "#Subdivision du jeu de données en apprentissage et en test\n",
    "x_train, x_test, y_train, y_test = train_test_split(x,y,test_size =0.2, random_state =1)\n",
    "#train_set, test_set = train_test_split(df,test_size =0.2, random_state =1)"
   ]
  },
  {
   "cell_type": "code",
   "execution_count": 14,
   "id": "a61a2912",
   "metadata": {},
   "outputs": [
    {
     "name": "stdout",
     "output_type": "stream",
     "text": [
      "(734, 11) (184, 11) (734,) (184,)\n"
     ]
    }
   ],
   "source": [
    "#Vérifier le résultat\n",
    "print(x_train.shape, x_test.shape, y_train.shape, y_test.shape)"
   ]
  },
  {
   "cell_type": "code",
   "execution_count": 15,
   "id": "38ab6c74",
   "metadata": {},
   "outputs": [],
   "source": [
    "#Création d'un objet lr de la classe LogisticRegression\n",
    "lr = LogisticRegression(solver ='newton-cg', random_state =1)"
   ]
  },
  {
   "cell_type": "code",
   "execution_count": 16,
   "id": "5ad5e50a",
   "metadata": {},
   "outputs": [],
   "source": [
    "#Apprentissage du modèle\n",
    "model = lr.fit(x_train, y_train)\n",
    "#model = lr.fit(train_set.drop('CŒUR', axis = 1), train_set['CŒUR'])"
   ]
  },
  {
   "cell_type": "code",
   "execution_count": 17,
   "id": "c7c219c6",
   "metadata": {},
   "outputs": [
    {
     "data": {
      "text/plain": [
       "array([[0.39560595, 0.60439405],\n",
       "       [0.18843348, 0.81156652],\n",
       "       [0.04970935, 0.95029065],\n",
       "       [0.09007617, 0.90992383],\n",
       "       [0.28158313, 0.71841687]])"
      ]
     },
     "execution_count": 17,
     "metadata": {},
     "output_type": "execute_result"
    }
   ],
   "source": [
    "#Probabilité d'appartenance à l'une des classes\n",
    "predict_proba = model.predict_proba(x_test)\n",
    "predict_proba[:5,:]"
   ]
  },
  {
   "cell_type": "code",
   "execution_count": 18,
   "id": "0e4f9aca",
   "metadata": {},
   "outputs": [
    {
     "data": {
      "text/plain": [
       "array([1, 1, 1, 1, 1], dtype=int64)"
      ]
     },
     "execution_count": 18,
     "metadata": {},
     "output_type": "execute_result"
    }
   ],
   "source": [
    "#Application du modèle au données de test\n",
    "y_pred = model.predict(x_test)\n",
    "y_pred[:5]"
   ]
  },
  {
   "cell_type": "code",
   "execution_count": 19,
   "id": "a849be08",
   "metadata": {},
   "outputs": [
    {
     "data": {
      "text/plain": [
       "array([[ 66,   8],\n",
       "       [  6, 104]], dtype=int64)"
      ]
     },
     "execution_count": 19,
     "metadata": {},
     "output_type": "execute_result"
    }
   ],
   "source": [
    "#matrice de confusion\n",
    "mc = confusion_matrix(y_test, y_pred)\n",
    "mc"
   ]
  },
  {
   "cell_type": "code",
   "execution_count": 20,
   "id": "5f2a721e",
   "metadata": {},
   "outputs": [
    {
     "data": {
      "text/plain": [
       "0.9239130434782609"
      ]
     },
     "execution_count": 20,
     "metadata": {},
     "output_type": "execute_result"
    }
   ],
   "source": [
    "#Taux de bonnes prédictions\n",
    "accuracy = accuracy_score(y_test, y_pred)\n",
    "accuracy\n",
    "#Conclusion : le modèle produit 85.32 % de bonne prédiction."
   ]
  },
  {
   "cell_type": "code",
   "execution_count": 21,
   "id": "39678925",
   "metadata": {},
   "outputs": [
    {
     "data": {
      "text/plain": [
       "0.9454545454545454"
      ]
     },
     "execution_count": 21,
     "metadata": {},
     "output_type": "execute_result"
    }
   ],
   "source": [
    "#Sensibilité\n",
    "recall = recall_score(y_test, y_pred)\n",
    "recall\n",
    "#conclusion : lorsqu'un individu est malade, nous avons 84.11 % de chance que le modèle le prédise."
   ]
  },
  {
   "cell_type": "code",
   "execution_count": 22,
   "id": "62060487",
   "metadata": {},
   "outputs": [
    {
     "data": {
      "text/plain": [
       "0.9285714285714286"
      ]
     },
     "execution_count": 22,
     "metadata": {},
     "output_type": "execute_result"
    }
   ],
   "source": [
    "#Précision\n",
    "precision = precision_score(y_test, y_pred)\n",
    "precision\n",
    "#Conclusion : lorsque le modèle prédit qu'un individu est malade, nous avons 90 % de chace que cela soit vraie."
   ]
  },
  {
   "cell_type": "code",
   "execution_count": 23,
   "id": "e0630294",
   "metadata": {},
   "outputs": [
    {
     "name": "stdout",
     "output_type": "stream",
     "text": [
      "              precision    recall  f1-score   support\n",
      "\n",
      "           0       0.92      0.89      0.90        74\n",
      "           1       0.93      0.95      0.94       110\n",
      "\n",
      "    accuracy                           0.92       184\n",
      "   macro avg       0.92      0.92      0.92       184\n",
      "weighted avg       0.92      0.92      0.92       184\n",
      "\n"
     ]
    }
   ],
   "source": [
    "#plus de détails avec classification report\n",
    "cr = classification_report(y_test, y_pred)\n",
    "print(cr)"
   ]
  },
  {
   "cell_type": "code",
   "execution_count": 24,
   "id": "4803ba1d",
   "metadata": {},
   "outputs": [
    {
     "data": {
      "text/plain": [
       "1    0.553377\n",
       "0    0.446623\n",
       "Name: CŒUR, dtype: float64"
      ]
     },
     "execution_count": 24,
     "metadata": {},
     "output_type": "execute_result"
    }
   ],
   "source": [
    "#Modèle Trival\n",
    "df['CŒUR'].value_counts()/df.shape[0]\n",
    "#Conclusion : si nous nous basons sur le hasard pour faire nos prédiction, nous aurons 55.37 % de bonne prédiction."
   ]
  },
  {
   "cell_type": "code",
   "execution_count": 25,
   "id": "76511cb7",
   "metadata": {},
   "outputs": [
    {
     "data": {
      "text/plain": [
       "0.8433242506811989"
      ]
     },
     "execution_count": 25,
     "metadata": {},
     "output_type": "execute_result"
    }
   ],
   "source": [
    "#Score d'entrainement (le taux de bonne prédiction calculé sur la base des données d'entrainement)\n",
    "model.score(x_train, y_train)"
   ]
  },
  {
   "cell_type": "code",
   "execution_count": 26,
   "id": "272d4686",
   "metadata": {},
   "outputs": [
    {
     "data": {
      "text/plain": [
       "0.9239130434782609"
      ]
     },
     "execution_count": 26,
     "metadata": {},
     "output_type": "execute_result"
    }
   ],
   "source": [
    "#Score d'entrainement (le taux de bonne prédiction calculé sur la base des données de test)\n",
    "model.score(x_test, y_test)"
   ]
  },
  {
   "cell_type": "code",
   "execution_count": 27,
   "id": "d0be25b0",
   "metadata": {},
   "outputs": [],
   "source": [
    "# enregistrer le modèle\n",
    "pickle.dump(lr, open('model.pkl', 'wb'))"
   ]
  },
  {
   "cell_type": "markdown",
   "id": "18431440",
   "metadata": {},
   "source": [
    "arbre de décision\n"
   ]
  },
  {
   "cell_type": "code",
   "execution_count": 28,
   "id": "10290e10",
   "metadata": {},
   "outputs": [
    {
     "data": {
      "text/html": [
       "<div>\n",
       "<style scoped>\n",
       "    .dataframe tbody tr th:only-of-type {\n",
       "        vertical-align: middle;\n",
       "    }\n",
       "\n",
       "    .dataframe tbody tr th {\n",
       "        vertical-align: top;\n",
       "    }\n",
       "\n",
       "    .dataframe thead th {\n",
       "        text-align: right;\n",
       "    }\n",
       "</style>\n",
       "<table border=\"1\" class=\"dataframe\">\n",
       "  <thead>\n",
       "    <tr style=\"text-align: right;\">\n",
       "      <th></th>\n",
       "      <th>AGE</th>\n",
       "      <th>SEXE</th>\n",
       "      <th>TDT</th>\n",
       "      <th>PAR</th>\n",
       "      <th>CHOLESTEROL</th>\n",
       "      <th>GAJ</th>\n",
       "      <th>ECG</th>\n",
       "      <th>FCMAX</th>\n",
       "      <th>ANGINE</th>\n",
       "      <th>DEPRESSION</th>\n",
       "      <th>PENTE</th>\n",
       "      <th>CŒUR</th>\n",
       "    </tr>\n",
       "  </thead>\n",
       "  <tbody>\n",
       "    <tr>\n",
       "      <th>0</th>\n",
       "      <td>0.519481</td>\n",
       "      <td>1</td>\n",
       "      <td>0</td>\n",
       "      <td>0.70</td>\n",
       "      <td>0.479270</td>\n",
       "      <td>0.0</td>\n",
       "      <td>1</td>\n",
       "      <td>0.851485</td>\n",
       "      <td>0</td>\n",
       "      <td>0.000000</td>\n",
       "      <td>0</td>\n",
       "      <td>0</td>\n",
       "    </tr>\n",
       "    <tr>\n",
       "      <th>1</th>\n",
       "      <td>0.636364</td>\n",
       "      <td>0</td>\n",
       "      <td>3</td>\n",
       "      <td>0.80</td>\n",
       "      <td>0.298507</td>\n",
       "      <td>0.0</td>\n",
       "      <td>1</td>\n",
       "      <td>0.772277</td>\n",
       "      <td>0</td>\n",
       "      <td>0.161290</td>\n",
       "      <td>2</td>\n",
       "      <td>1</td>\n",
       "    </tr>\n",
       "    <tr>\n",
       "      <th>2</th>\n",
       "      <td>0.480519</td>\n",
       "      <td>1</td>\n",
       "      <td>0</td>\n",
       "      <td>0.65</td>\n",
       "      <td>0.469320</td>\n",
       "      <td>0.0</td>\n",
       "      <td>2</td>\n",
       "      <td>0.485149</td>\n",
       "      <td>0</td>\n",
       "      <td>0.000000</td>\n",
       "      <td>0</td>\n",
       "      <td>0</td>\n",
       "    </tr>\n",
       "    <tr>\n",
       "      <th>3</th>\n",
       "      <td>0.623377</td>\n",
       "      <td>0</td>\n",
       "      <td>1</td>\n",
       "      <td>0.69</td>\n",
       "      <td>0.354892</td>\n",
       "      <td>0.0</td>\n",
       "      <td>1</td>\n",
       "      <td>0.534653</td>\n",
       "      <td>1</td>\n",
       "      <td>0.241935</td>\n",
       "      <td>2</td>\n",
       "      <td>1</td>\n",
       "    </tr>\n",
       "    <tr>\n",
       "      <th>4</th>\n",
       "      <td>0.701299</td>\n",
       "      <td>1</td>\n",
       "      <td>3</td>\n",
       "      <td>0.75</td>\n",
       "      <td>0.323383</td>\n",
       "      <td>0.0</td>\n",
       "      <td>1</td>\n",
       "      <td>0.603960</td>\n",
       "      <td>0</td>\n",
       "      <td>0.000000</td>\n",
       "      <td>0</td>\n",
       "      <td>0</td>\n",
       "    </tr>\n",
       "    <tr>\n",
       "      <th>5</th>\n",
       "      <td>0.506494</td>\n",
       "      <td>1</td>\n",
       "      <td>3</td>\n",
       "      <td>0.60</td>\n",
       "      <td>0.562189</td>\n",
       "      <td>0.0</td>\n",
       "      <td>1</td>\n",
       "      <td>0.841584</td>\n",
       "      <td>0</td>\n",
       "      <td>0.000000</td>\n",
       "      <td>0</td>\n",
       "      <td>0</td>\n",
       "    </tr>\n",
       "    <tr>\n",
       "      <th>6</th>\n",
       "      <td>0.584416</td>\n",
       "      <td>0</td>\n",
       "      <td>0</td>\n",
       "      <td>0.65</td>\n",
       "      <td>0.393035</td>\n",
       "      <td>0.0</td>\n",
       "      <td>1</td>\n",
       "      <td>0.841584</td>\n",
       "      <td>0</td>\n",
       "      <td>0.000000</td>\n",
       "      <td>0</td>\n",
       "      <td>0</td>\n",
       "    </tr>\n",
       "    <tr>\n",
       "      <th>7</th>\n",
       "      <td>0.701299</td>\n",
       "      <td>1</td>\n",
       "      <td>0</td>\n",
       "      <td>0.55</td>\n",
       "      <td>0.344942</td>\n",
       "      <td>0.0</td>\n",
       "      <td>1</td>\n",
       "      <td>0.702970</td>\n",
       "      <td>0</td>\n",
       "      <td>0.000000</td>\n",
       "      <td>0</td>\n",
       "      <td>0</td>\n",
       "    </tr>\n",
       "    <tr>\n",
       "      <th>8</th>\n",
       "      <td>0.480519</td>\n",
       "      <td>1</td>\n",
       "      <td>1</td>\n",
       "      <td>0.70</td>\n",
       "      <td>0.343284</td>\n",
       "      <td>0.0</td>\n",
       "      <td>1</td>\n",
       "      <td>0.643564</td>\n",
       "      <td>1</td>\n",
       "      <td>0.241935</td>\n",
       "      <td>2</td>\n",
       "      <td>1</td>\n",
       "    </tr>\n",
       "    <tr>\n",
       "      <th>9</th>\n",
       "      <td>0.623377</td>\n",
       "      <td>0</td>\n",
       "      <td>0</td>\n",
       "      <td>0.60</td>\n",
       "      <td>0.470978</td>\n",
       "      <td>0.0</td>\n",
       "      <td>1</td>\n",
       "      <td>0.594059</td>\n",
       "      <td>0</td>\n",
       "      <td>0.000000</td>\n",
       "      <td>0</td>\n",
       "      <td>0</td>\n",
       "    </tr>\n",
       "  </tbody>\n",
       "</table>\n",
       "</div>"
      ],
      "text/plain": [
       "        AGE  SEXE  TDT   PAR  CHOLESTEROL  GAJ  ECG     FCMAX  ANGINE  \\\n",
       "0  0.519481     1    0  0.70     0.479270  0.0    1  0.851485       0   \n",
       "1  0.636364     0    3  0.80     0.298507  0.0    1  0.772277       0   \n",
       "2  0.480519     1    0  0.65     0.469320  0.0    2  0.485149       0   \n",
       "3  0.623377     0    1  0.69     0.354892  0.0    1  0.534653       1   \n",
       "4  0.701299     1    3  0.75     0.323383  0.0    1  0.603960       0   \n",
       "5  0.506494     1    3  0.60     0.562189  0.0    1  0.841584       0   \n",
       "6  0.584416     0    0  0.65     0.393035  0.0    1  0.841584       0   \n",
       "7  0.701299     1    0  0.55     0.344942  0.0    1  0.702970       0   \n",
       "8  0.480519     1    1  0.70     0.343284  0.0    1  0.643564       1   \n",
       "9  0.623377     0    0  0.60     0.470978  0.0    1  0.594059       0   \n",
       "\n",
       "   DEPRESSION   PENTE  CŒUR  \n",
       "0     0.000000      0     0  \n",
       "1     0.161290      2     1  \n",
       "2     0.000000      0     0  \n",
       "3     0.241935      2     1  \n",
       "4     0.000000      0     0  \n",
       "5     0.000000      0     0  \n",
       "6     0.000000      0     0  \n",
       "7     0.000000      0     0  \n",
       "8     0.241935      2     1  \n",
       "9     0.000000      0     0  "
      ]
     },
     "execution_count": 28,
     "metadata": {},
     "output_type": "execute_result"
    }
   ],
   "source": [
    "#copier notre dataframe dans une nouvelle variable\n",
    "df2 = df.copy()\n",
    "df2.head(10)"
   ]
  },
  {
   "cell_type": "code",
   "execution_count": 29,
   "id": "1cb68949",
   "metadata": {},
   "outputs": [],
   "source": [
    "#Standardisation des variables quantitatives\n",
    "for col in df2.drop('CŒUR', axis =1).select_dtypes(np.number).columns:\n",
    "    df2[col] = df2[col]/df2[col].max()"
   ]
  },
  {
   "cell_type": "code",
   "execution_count": 31,
   "id": "76a80e28",
   "metadata": {},
   "outputs": [],
   "source": [
    "#Encodage des variables qualitatives dans une variable le\n",
    "le = LabelEncoder()"
   ]
  },
  {
   "cell_type": "code",
   "execution_count": 34,
   "id": "4f6dd413",
   "metadata": {},
   "outputs": [
    {
     "data": {
      "text/html": [
       "<div>\n",
       "<style scoped>\n",
       "    .dataframe tbody tr th:only-of-type {\n",
       "        vertical-align: middle;\n",
       "    }\n",
       "\n",
       "    .dataframe tbody tr th {\n",
       "        vertical-align: top;\n",
       "    }\n",
       "\n",
       "    .dataframe thead th {\n",
       "        text-align: right;\n",
       "    }\n",
       "</style>\n",
       "<table border=\"1\" class=\"dataframe\">\n",
       "  <thead>\n",
       "    <tr style=\"text-align: right;\">\n",
       "      <th></th>\n",
       "      <th>AGE</th>\n",
       "      <th>SEXE</th>\n",
       "      <th>TDT</th>\n",
       "      <th>PAR</th>\n",
       "      <th>CHOLESTEROL</th>\n",
       "      <th>GAJ</th>\n",
       "      <th>ECG</th>\n",
       "      <th>FCMAX</th>\n",
       "      <th>ANGINE</th>\n",
       "      <th>DEPRESSION</th>\n",
       "      <th>PENTE</th>\n",
       "      <th>CŒUR</th>\n",
       "    </tr>\n",
       "  </thead>\n",
       "  <tbody>\n",
       "    <tr>\n",
       "      <th>0</th>\n",
       "      <td>12</td>\n",
       "      <td>1</td>\n",
       "      <td>0</td>\n",
       "      <td>41</td>\n",
       "      <td>147</td>\n",
       "      <td>0</td>\n",
       "      <td>1</td>\n",
       "      <td>98</td>\n",
       "      <td>0</td>\n",
       "      <td>10</td>\n",
       "      <td>0</td>\n",
       "      <td>0</td>\n",
       "    </tr>\n",
       "    <tr>\n",
       "      <th>1</th>\n",
       "      <td>21</td>\n",
       "      <td>0</td>\n",
       "      <td>3</td>\n",
       "      <td>55</td>\n",
       "      <td>40</td>\n",
       "      <td>0</td>\n",
       "      <td>1</td>\n",
       "      <td>82</td>\n",
       "      <td>0</td>\n",
       "      <td>20</td>\n",
       "      <td>2</td>\n",
       "      <td>1</td>\n",
       "    </tr>\n",
       "    <tr>\n",
       "      <th>2</th>\n",
       "      <td>9</td>\n",
       "      <td>1</td>\n",
       "      <td>0</td>\n",
       "      <td>31</td>\n",
       "      <td>141</td>\n",
       "      <td>0</td>\n",
       "      <td>2</td>\n",
       "      <td>25</td>\n",
       "      <td>0</td>\n",
       "      <td>10</td>\n",
       "      <td>0</td>\n",
       "      <td>0</td>\n",
       "    </tr>\n",
       "    <tr>\n",
       "      <th>3</th>\n",
       "      <td>20</td>\n",
       "      <td>0</td>\n",
       "      <td>1</td>\n",
       "      <td>39</td>\n",
       "      <td>72</td>\n",
       "      <td>0</td>\n",
       "      <td>1</td>\n",
       "      <td>34</td>\n",
       "      <td>1</td>\n",
       "      <td>25</td>\n",
       "      <td>2</td>\n",
       "      <td>1</td>\n",
       "    </tr>\n",
       "    <tr>\n",
       "      <th>4</th>\n",
       "      <td>26</td>\n",
       "      <td>1</td>\n",
       "      <td>3</td>\n",
       "      <td>49</td>\n",
       "      <td>53</td>\n",
       "      <td>0</td>\n",
       "      <td>1</td>\n",
       "      <td>48</td>\n",
       "      <td>0</td>\n",
       "      <td>10</td>\n",
       "      <td>0</td>\n",
       "      <td>0</td>\n",
       "    </tr>\n",
       "  </tbody>\n",
       "</table>\n",
       "</div>"
      ],
      "text/plain": [
       "   AGE  SEXE  TDT  PAR  CHOLESTEROL  GAJ  ECG  FCMAX  ANGINE  DEPRESSION   \\\n",
       "0   12     1    0   41          147    0    1     98       0           10   \n",
       "1   21     0    3   55           40    0    1     82       0           20   \n",
       "2    9     1    0   31          141    0    2     25       0           10   \n",
       "3   20     0    1   39           72    0    1     34       1           25   \n",
       "4   26     1    3   49           53    0    1     48       0           10   \n",
       "\n",
       "   PENTE  CŒUR  \n",
       "0      0     0  \n",
       "1      2     1  \n",
       "2      0     0  \n",
       "3      2     1  \n",
       "4      0     0  "
      ]
     },
     "execution_count": 34,
     "metadata": {},
     "output_type": "execute_result"
    }
   ],
   "source": [
    "#creer une variable df_encoded qui va stocker notre dataframe encoder\n",
    "df_encoded=df.iloc[:,0:12]\n",
    "\n",
    "for i in df_encoded:\n",
    "    df_encoded[i]=le.fit_transform(df_encoded[i])\n",
    "    \n",
    "df_encoded.head()"
   ]
  },
  {
   "cell_type": "code",
   "execution_count": 35,
   "id": "815c6da1",
   "metadata": {},
   "outputs": [],
   "source": [
    "# jeu de fonctionnalités\n",
    "x=df_encoded.iloc[:,0:11]\n",
    "#l'étiquettement de notre jeu\n",
    "y=df_encoded.iloc[:,11]\n"
   ]
  },
  {
   "cell_type": "markdown",
   "id": "1dd99954",
   "metadata": {},
   "source": [
    "pour la separation de notre jeu de donnée on aurait pu procédé comme suit\n",
    "#Séparer la variable cible (coeur) et les variables explicatives\n",
    "y = df['CŒUR']\n",
    "x = df.drop('CŒUR', axis = 1)"
   ]
  },
  {
   "cell_type": "code",
   "execution_count": 38,
   "id": "834d65c2",
   "metadata": {},
   "outputs": [],
   "source": [
    "#repartition des données en données de test et données d'entraînement\n",
    "x_train, x_test, y_train, y_test = train_test_split(x,y,test_size =0.2, random_state =1)"
   ]
  },
  {
   "cell_type": "code",
   "execution_count": 39,
   "id": "c70fa277",
   "metadata": {},
   "outputs": [
    {
     "name": "stdout",
     "output_type": "stream",
     "text": [
      "(734, 11) (184, 11) (734,) (184,)\n"
     ]
    }
   ],
   "source": [
    "#Vérification de la séparation de notre jeu de donnée\n",
    "print(x_train.shape, x_test.shape, y_train.shape, y_test.shape)"
   ]
  },
  {
   "cell_type": "code",
   "execution_count": 40,
   "id": "a23ae20f",
   "metadata": {},
   "outputs": [],
   "source": [
    "#Création d'un objet model de la classe DecisionTreeClassifier\n",
    "model_DT=DecisionTreeClassifier(criterion='gini')"
   ]
  },
  {
   "cell_type": "code",
   "execution_count": 41,
   "id": "b1920653",
   "metadata": {},
   "outputs": [
    {
     "data": {
      "text/plain": [
       "DecisionTreeClassifier()"
      ]
     },
     "execution_count": 41,
     "metadata": {},
     "output_type": "execute_result"
    }
   ],
   "source": [
    "#Apprentissage du modèle\n",
    "model_DT.fit(x_train,y_train)"
   ]
  },
  {
   "cell_type": "code",
   "execution_count": 45,
   "id": "0eba9ca8",
   "metadata": {},
   "outputs": [
    {
     "data": {
      "text/plain": [
       "array([[0., 1.],\n",
       "       [1., 0.],\n",
       "       [0., 1.]])"
      ]
     },
     "execution_count": 45,
     "metadata": {},
     "output_type": "execute_result"
    }
   ],
   "source": [
    "#Probabilité d'appartenance à l'une des classes\n",
    "predict_proba = model_DT.predict_proba(x_test)\n",
    "predict_proba[:3,:]"
   ]
  },
  {
   "cell_type": "code",
   "execution_count": 46,
   "id": "c98ce8e7",
   "metadata": {},
   "outputs": [
    {
     "data": {
      "text/plain": [
       "array([1, 0, 1, 1, 0, 0, 0, 0, 0, 1], dtype=int64)"
      ]
     },
     "execution_count": 46,
     "metadata": {},
     "output_type": "execute_result"
    }
   ],
   "source": [
    "#Application du modèle au données de test\n",
    "y_pred = model_DT.predict(x_test)\n",
    "y_pred[:10]"
   ]
  },
  {
   "cell_type": "code",
   "execution_count": 48,
   "id": "74368c06",
   "metadata": {},
   "outputs": [
    {
     "data": {
      "text/plain": [
       "array([[62, 12],\n",
       "       [29, 81]], dtype=int64)"
      ]
     },
     "execution_count": 48,
     "metadata": {},
     "output_type": "execute_result"
    }
   ],
   "source": [
    "#matrice de confusion pour notre modèle d'arbre\n",
    "mc = confusion_matrix(y_test, y_pred)\n",
    "mc"
   ]
  },
  {
   "cell_type": "code",
   "execution_count": 49,
   "id": "f61c0399",
   "metadata": {},
   "outputs": [
    {
     "data": {
      "text/plain": [
       "0.7771739130434783"
      ]
     },
     "execution_count": 49,
     "metadata": {},
     "output_type": "execute_result"
    }
   ],
   "source": [
    "#Taux de bonnes prédictions de notre modèle\n",
    "accuracy = accuracy_score(y_test, y_pred)\n",
    "accuracy"
   ]
  },
  {
   "cell_type": "code",
   "execution_count": 50,
   "id": "8878b5de",
   "metadata": {},
   "outputs": [
    {
     "data": {
      "text/plain": [
       "0.7363636363636363"
      ]
     },
     "execution_count": 50,
     "metadata": {},
     "output_type": "execute_result"
    }
   ],
   "source": [
    "#Sensibilité \n",
    "recall_DT = recall_score(y_test, y_pred)\n",
    "recall_DT"
   ]
  },
  {
   "cell_type": "code",
   "execution_count": 51,
   "id": "95770906",
   "metadata": {},
   "outputs": [
    {
     "data": {
      "text/plain": [
       "0.8709677419354839"
      ]
     },
     "execution_count": 51,
     "metadata": {},
     "output_type": "execute_result"
    }
   ],
   "source": [
    "#Précision\n",
    "precision_DT = precision_score(y_test, y_pred)\n",
    "precision_DT"
   ]
  },
  {
   "cell_type": "code",
   "execution_count": 52,
   "id": "32d176eb",
   "metadata": {},
   "outputs": [
    {
     "name": "stdout",
     "output_type": "stream",
     "text": [
      "              precision    recall  f1-score   support\n",
      "\n",
      "           0       0.68      0.84      0.75        74\n",
      "           1       0.87      0.74      0.80       110\n",
      "\n",
      "    accuracy                           0.78       184\n",
      "   macro avg       0.78      0.79      0.77       184\n",
      "weighted avg       0.79      0.78      0.78       184\n",
      "\n"
     ]
    }
   ],
   "source": [
    "#plus de détails avec classification report\n",
    "cr_DT = classification_report(y_test, y_pred)\n",
    "print(cr_DT)"
   ]
  },
  {
   "cell_type": "code",
   "execution_count": 54,
   "id": "009ad008",
   "metadata": {},
   "outputs": [
    {
     "data": {
      "text/plain": [
       "0.7771739130434783"
      ]
     },
     "execution_count": 54,
     "metadata": {},
     "output_type": "execute_result"
    }
   ],
   "source": [
    "#Score d'entrainement (le taux de bonne prédiction calculé sur la base des données de test)\n",
    "model_DT.score(x_test, y_test)"
   ]
  }
 ],
 "metadata": {
  "kernelspec": {
   "display_name": "Python 3",
   "language": "python",
   "name": "python3"
  },
  "language_info": {
   "codemirror_mode": {
    "name": "ipython",
    "version": 3
   },
   "file_extension": ".py",
   "mimetype": "text/x-python",
   "name": "python",
   "nbconvert_exporter": "python",
   "pygments_lexer": "ipython3",
   "version": "3.8.8"
  }
 },
 "nbformat": 4,
 "nbformat_minor": 5
}
